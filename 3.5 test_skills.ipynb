{
 "cells": [
  {
   "cell_type": "code",
   "execution_count": 1,
   "metadata": {},
   "outputs": [],
   "source": [
    "import os\n",
    "import matplotlib.pyplot as pit\n",
    "import seaborn as sns\n",
    "import numpy as np\n",
    "import rioxarray as rxr\n",
    "import earthpy as et\n",
    "\n",
    "#os.chir(os.path.join{et.io.HOME, \"earth-analaytics\", \"data\"})\n",
    "\n",
    "sns.set(font_scale=1.5, style=\"white\")\n",
    "\n",
    "lidar_dem_path = os.path.join(\"colorado-flood\", \"spatial\", \"boulder-leehill-rd\", \"pre-flood\", \"lidar\", \"pre_DTM\")"
   ]
  }
 ],
 "metadata": {
  "kernelspec": {
   "display_name": "Python 3",
   "language": "python",
   "name": "python3"
  },
  "language_info": {
   "codemirror_mode": {
    "name": "ipython",
    "version": 3
   },
   "file_extension": ".py",
   "mimetype": "text/x-python",
   "name": "python",
   "nbconvert_exporter": "python",
   "pygments_lexer": "ipython3",
   "version": "3.10.13"
  }
 },
 "nbformat": 4,
 "nbformat_minor": 2
}
